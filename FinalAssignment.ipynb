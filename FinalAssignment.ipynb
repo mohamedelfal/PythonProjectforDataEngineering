{
   "cells":[
      {
         "metadata":{
            
         },
         "cell_type":"markdown",
         "source":"<center>\n    <img src=\"https://gitlab.com/ibm/skills-network/courses/placeholder101/-/raw/master/labs/module%201/images/IDSNlogo.png\" width=\"300\" alt=\"cognitiveclass.ai logo\"  />\n</center>\n"
      },
      {
         "metadata":{
            
         },
         "cell_type":"markdown",
         "source":"# Peer Review Assignment - Data Engineer - ETL\n"
      },
      {
         "metadata":{
            
         },
         "cell_type":"markdown",
         "source":"Estimated time needed: **20** minutes\n"
      },
      {
         "metadata":{
            
         },
         "cell_type":"markdown",
         "source":"## Objectives\n\nIn this final part you will:\n\n-   Run the ETL process\n-   Extract bank and market cap data from the JSON file `bank_market_cap.json`\n-   Transform the market cap currency using the exchange rate data\n-   Load the transformed data into a seperate CSV\n"
      },
      {
         "metadata":{
            
         },
         "cell_type":"markdown",
         "source":"For this lab, we are going to be using Python and several Python libraries. Some of these libraries might be installed in your lab environment or in SN Labs. Others may need to be installed by you. The cells below will install these libraries when executed.\n"
      },
      {
         "metadata":{
            
         },
         "cell_type":"code",
         "source":"pip install glob\npip install pandas\npip install requests\npip install datetime",
         "execution_count":2,
         "outputs":[
            {
               "output_type":"error",
               "ename":"SyntaxError",
               "evalue":"invalid syntax (<ipython-input-2-484643477ece>, line 1)",
               "traceback":[
                  "\u001b[0;36m  File \u001b[0;32m\"<ipython-input-2-484643477ece>\"\u001b[0;36m, line \u001b[0;32m1\u001b[0m\n\u001b[0;31m    pip install glob\u001b[0m\n\u001b[0m              ^\u001b[0m\n\u001b[0;31mSyntaxError\u001b[0m\u001b[0;31m:\u001b[0m invalid syntax\n"
               ]
            }
         ]
      },
      {
         "metadata":{
            
         },
         "cell_type":"markdown",
         "source":"## Imports\n\nImport any additional libraries you may need here.\n"
      },
      {
         "metadata":{
            
         },
         "cell_type":"code",
         "source":"import glob\nimport pandas as pd\nfrom datetime import datetime\n\nimport json",
         "execution_count":49,
         "outputs":[
            
         ]
      },
      {
         "metadata":{
            
         },
         "cell_type":"markdown",
         "source":"As the exchange rate fluctuates, we will download the same dataset to make marking simpler. This will be in the same format as the dataset you used in the last section  \n"
      },
      {
         "metadata":{
            
         },
         "cell_type":"code",
         "source":"!wget https://cf-courses-data.s3.us.cloud-object-storage.appdomain.cloud/IBMDeveloperSkillsNetwork-PY0221EN-SkillsNetwork/labs/module%206/Lab%20-%20Extract%20Transform%20Load/data/bank_market_cap_1.json\n!wget https://cf-courses-data.s3.us.cloud-object-storage.appdomain.cloud/IBMDeveloperSkillsNetwork-PY0221EN-SkillsNetwork/labs/module%206/Lab%20-%20Extract%20Transform%20Load/data/bank_market_cap_2.json\n!wget https://cf-courses-data.s3.us.cloud-object-storage.appdomain.cloud/IBMDeveloperSkillsNetwork-PY0221EN-SkillsNetwork/labs/module%206/Final%20Assignment/exchange_rates.csv",
         "execution_count":5,
         "outputs":[
            {
               "output_type":"stream",
               "text":"--2021-07-09 15:14:06--  https://cf-courses-data.s3.us.cloud-object-storage.appdomain.cloud/IBMDeveloperSkillsNetwork-PY0221EN-SkillsNetwork/labs/module%206/Lab%20-%20Extract%20Transform%20Load/data/bank_market_cap_1.json\nResolving cf-courses-data.s3.us.cloud-object-storage.appdomain.cloud (cf-courses-data.s3.us.cloud-object-storage.appdomain.cloud)... 198.23.119.245\nConnecting to cf-courses-data.s3.us.cloud-object-storage.appdomain.cloud (cf-courses-data.s3.us.cloud-object-storage.appdomain.cloud)|198.23.119.245|:443... connected.\nHTTP request sent, awaiting response... 200 OK\nLength: 2815 (2.7K) [application/json]\nSaving to: \u2018bank_market_cap_1.json\u2019\n\nbank_market_cap_1.j 100%[===================>]   2.75K  --.-KB/s    in 0s      \n\n2021-07-09 15:14:06 (76.7 MB/s) - \u2018bank_market_cap_1.json\u2019 saved [2815/2815]\n\n--2021-07-09 15:14:07--  https://cf-courses-data.s3.us.cloud-object-storage.appdomain.cloud/IBMDeveloperSkillsNetwork-PY0221EN-SkillsNetwork/labs/module%206/Lab%20-%20Extract%20Transform%20Load/data/bank_market_cap_2.json\nResolving cf-courses-data.s3.us.cloud-object-storage.appdomain.cloud (cf-courses-data.s3.us.cloud-object-storage.appdomain.cloud)... 198.23.119.245\nConnecting to cf-courses-data.s3.us.cloud-object-storage.appdomain.cloud (cf-courses-data.s3.us.cloud-object-storage.appdomain.cloud)|198.23.119.245|:443... connected.\nHTTP request sent, awaiting response... 200 OK\nLength: 1429 (1.4K) [application/json]\nSaving to: \u2018bank_market_cap_2.json\u2019\n\nbank_market_cap_2.j 100%[===================>]   1.40K  --.-KB/s    in 0s      \n\n2021-07-09 15:14:07 (41.6 MB/s) - \u2018bank_market_cap_2.json\u2019 saved [1429/1429]\n\n--2021-07-09 15:14:08--  https://cf-courses-data.s3.us.cloud-object-storage.appdomain.cloud/IBMDeveloperSkillsNetwork-PY0221EN-SkillsNetwork/labs/module%206/Final%20Assignment/exchange_rates.csv\nResolving cf-courses-data.s3.us.cloud-object-storage.appdomain.cloud (cf-courses-data.s3.us.cloud-object-storage.appdomain.cloud)... 198.23.119.245\nConnecting to cf-courses-data.s3.us.cloud-object-storage.appdomain.cloud (cf-courses-data.s3.us.cloud-object-storage.appdomain.cloud)|198.23.119.245|:443... connected.\nHTTP request sent, awaiting response... 200 OK\nLength: 590 [text/csv]\nSaving to: \u2018exchange_rates.csv\u2019\n\nexchange_rates.csv  100%[===================>]     590  --.-KB/s    in 0s      \n\n2021-07-09 15:14:08 (21.2 MB/s) - \u2018exchange_rates.csv\u2019 saved [590/590]\n\n",
               "name":"stdout"
            }
         ]
      },
      {
         "metadata":{
            
         },
         "cell_type":"markdown",
         "source":"## Extract\n"
      },
      {
         "metadata":{
            
         },
         "cell_type":"markdown",
         "source":"### JSON Extract Function\n\nThis function will extract JSON files.\n"
      },
      {
         "metadata":{
            
         },
         "cell_type":"code",
         "source":"def extract_from_json(file_to_process):\n    data = pd.read_json(file_to_process)\n    return dataframe",
         "execution_count":6,
         "outputs":[
            
         ]
      },
      {
         "metadata":{
            
         },
         "cell_type":"markdown",
         "source":"## Extract Function\n\nDefine the extract function that finds JSON file `bank_market_cap_1.json` and calls the function created above to extract data from them. Store the data in a `pandas` dataframe. Use the following list for the columns.\n"
      },
      {
         "metadata":{
            
         },
         "cell_type":"code",
         "source":"columns=['Name','Market Cap (US$ Billion)']",
         "execution_count":7,
         "outputs":[
            
         ]
      },
      {
         "metadata":{
            
         },
         "cell_type":"code",
         "source":"def extract():\n    extracted_data = pd.DataFrame(columns=['Name','Market Cap (US$ Billion)'])\n    jsonfile = \"bank_market_cap_1.json\"\n    extracted_data = extracted_data.append(extract_from_json(jsonfile), ignore_index=True)\n    return extracted_data\n \n#extracted_data = extract()\n#print(extracted_data)",
         "execution_count":84,
         "outputs":[
            
         ]
      },
      {
         "metadata":{
            
         },
         "cell_type":"markdown",
         "source":"<b>Question 1</b> Load the file <code>exchange_rates.csv</code> as a dataframe and find the exchange rate for British pounds with the symbol <code>GBP</code>, store it in the variable  <code>exchange_rate</code>, you will be asked for the number. Hint: set the parameter  <code>index_col</code> to 0.\n"
      },
      {
         "metadata":{
            
         },
         "cell_type":"code",
         "source":"# Write your code here\ncsvfile = \"exchange_rates.csv\"\nrates_df = pd.read_csv(csvfile, index_col = 0)\nprint(rates_df)\n#print(rates_df.loc['GBP'])\nexchange_rate = csv_df.loc['GBP'].Rates\nprint(exchange_rate)",
         "execution_count":85,
         "outputs":[
            {
               "output_type":"stream",
               "text":"            Rates\nAUD      1.297088\nBGN      1.608653\nBRL      5.409196\nCAD      1.271426\nCHF      0.886083\nCNY      6.483139\nCZK     21.510117\nDKK      6.119757\nEUR      0.822504\nGBP      0.732398\nHKD      7.752509\nHRK      6.222652\nHUF    294.135549\nIDR  14097.902616\nILS      3.281132\nINR     73.011186\nISK    129.133081\nJPY    103.791742\nKRW   1105.839776\nMXN     19.932966\nMYR      4.043017\nNOK      8.497121\nNZD      1.393733\nPHP     48.070406\nPLN      3.732933\nRON      4.008883\nRUB     74.930827\nSEK      8.292071\nSGD      1.328261\nTHB     30.009870\nTRY      7.418572\nUSD      1.000000\nZAR     15.118441\n0.7323984208000001\n",
               "name":"stdout"
            }
         ]
      },
      {
         "metadata":{
            
         },
         "cell_type":"markdown",
         "source":"## Transform\n\nUsing <code>exchange_rate</code> and the `exchange_rates.csv` file find the exchange rate of USD to GBP. Write a transform function that\n\n1.  Changes the `Market Cap (US$ Billion)` column from USD to GBP\n2.  Rounds the Market Cap (US$ Billion)` column to 3 decimal places\n3.  Rename `Market Cap (US$ Billion)` to `Market Cap (GBP$ Billion)`\n"
      },
      {
         "metadata":{
            
         },
         "cell_type":"code",
         "source":"def transform(data):\n    # Write your code here\n    rates_df = pd.read_csv(csvfile, index_col = 0)\n    exchange_rate = rates_df.loc['GBP'].Rates\n    data['Market Cap (US$ Billion)'] = round(data['Market Cap (US$ Billion)'] * exchange_rate, 3)\n    data.columns=[\"Name\", \"Market Cap (GBP\u00a3 Billion)\"]\n    return data\n    \n#extracted_data = extract()\n#transform(extracted_data)",
         "execution_count":86,
         "outputs":[
            
         ]
      },
      {
         "metadata":{
            
         },
         "cell_type":"markdown",
         "source":"## Load\n\nCreate a function that takes a dataframe and load it to a csv named `bank_market_cap_gbp.csv`. Make sure to set `index` to `False`.\n"
      },
      {
         "metadata":{
            
         },
         "cell_type":"code",
         "source":"def load(data_to_load):\n    # Write your code here\n    data_to_load.to_csv(\"bank_market_cap_gbp.csv\", index=False)\n\n",
         "execution_count":87,
         "outputs":[
            
         ]
      },
      {
         "metadata":{
            
         },
         "cell_type":"markdown",
         "source":"## Logging Function\n"
      },
      {
         "metadata":{
            
         },
         "cell_type":"markdown",
         "source":"Write the logging function <code>log</code> to log your data:\n"
      },
      {
         "metadata":{
            
         },
         "cell_type":"code",
         "source":"def log(message):\n    # Write your code here\n    timestamp_format = '%Y-%h-%d-%H:%M:%S'\n    now = datetime.now()\n    timestamp = now.strftime(timestamp_format)\n    with open(\"logfile.txt\", \"a\") as f:\n        f.write ( timestamp + \",\" + message + '\\n' )",
         "execution_count":88,
         "outputs":[
            
         ]
      },
      {
         "metadata":{
            
         },
         "cell_type":"markdown",
         "source":"## Running the ETL Process\n"
      },
      {
         "metadata":{
            
         },
         "cell_type":"markdown",
         "source":"Log the process accordingly using the following <code>\"ETL Job Started\"</code> and <code>\"Extract phase Started\"</code>\n"
      },
      {
         "metadata":{
            
         },
         "cell_type":"code",
         "source":"# Write your code here\nlog(\"ETL Job Started\")\n\nlog(\"Extract phase Started\")\n",
         "execution_count":89,
         "outputs":[
            
         ]
      },
      {
         "metadata":{
            
         },
         "cell_type":"markdown",
         "source":"### Extract\n"
      },
      {
         "metadata":{
            
         },
         "cell_type":"markdown",
         "source":"<code>Question 2</code> Use the function <code>extract</code>, and print the first 5 rows, take a screen shot:\n"
      },
      {
         "metadata":{
            
         },
         "cell_type":"code",
         "source":"# Call the function here\ntop_five = extract().head()\n# Print the rows here\nprint(top_five)",
         "execution_count":90,
         "outputs":[
            {
               "output_type":"stream",
               "text":"                                      Name  Market Cap (US$ Billion)\n0                           JPMorgan Chase                   390.934\n1  Industrial and Commercial Bank of China                   345.214\n2                          Bank of America                   325.331\n3                              Wells Fargo                   308.013\n4                  China Construction Bank                   257.399\n",
               "name":"stdout"
            }
         ]
      },
      {
         "metadata":{
            
         },
         "cell_type":"markdown",
         "source":"Log the data as <code>\"Extract phase Ended\"</code>\n"
      },
      {
         "metadata":{
            
         },
         "cell_type":"code",
         "source":"# Write your code here\nlog(\"Extract phase Ended\")\nlog(top_five.to_csv())",
         "execution_count":91,
         "outputs":[
            
         ]
      },
      {
         "metadata":{
            
         },
         "cell_type":"markdown",
         "source":"### Transform\n"
      },
      {
         "metadata":{
            
         },
         "cell_type":"markdown",
         "source":"Log the following  <code>\"Transform phase Started\"</code>\n"
      },
      {
         "metadata":{
            
         },
         "cell_type":"code",
         "source":"# Write your code here\nlog(\"Transform phase Started\")",
         "execution_count":92,
         "outputs":[
            
         ]
      },
      {
         "metadata":{
            
         },
         "cell_type":"markdown",
         "source":"<code>Question 3</code> Use the function <code>transform</code> and print the first 5 rows of the output, take a screen shot:\n"
      },
      {
         "metadata":{
            
         },
         "cell_type":"code",
         "source":"# Call the function here\ntransformed_top_five = transform(top_five)\n\n\n# Print the first 5 rows here\nprint(top_five)",
         "execution_count":93,
         "outputs":[
            {
               "output_type":"stream",
               "text":"                                      Name  Market Cap (GBP\u00a3 Billion)\n0                           JPMorgan Chase                    286.319\n1  Industrial and Commercial Bank of China                    252.834\n2                          Bank of America                    238.272\n3                              Wells Fargo                    225.588\n4                  China Construction Bank                    188.519\n",
               "name":"stdout"
            }
         ]
      },
      {
         "metadata":{
            
         },
         "cell_type":"markdown",
         "source":"Log your data <code>\"Transform phase Ended\"</code>\n"
      },
      {
         "metadata":{
            
         },
         "cell_type":"code",
         "source":"# Write your code here\nlog(\"Transform phase Ended\")\n",
         "execution_count":94,
         "outputs":[
            
         ]
      },
      {
         "metadata":{
            
         },
         "cell_type":"markdown",
         "source":"### Load\n"
      },
      {
         "metadata":{
            
         },
         "cell_type":"markdown",
         "source":"Log the following `\"Load phase Started\"`.\n"
      },
      {
         "metadata":{
            
         },
         "cell_type":"code",
         "source":"# Write your code here\nlog(\"Load Job Started\")\n",
         "execution_count":95,
         "outputs":[
            
         ]
      },
      {
         "metadata":{
            
         },
         "cell_type":"markdown",
         "source":"Call the load function\n"
      },
      {
         "metadata":{
            
         },
         "cell_type":"code",
         "source":"# Write your code here\nload(top_five)\n",
         "execution_count":96,
         "outputs":[
            
         ]
      },
      {
         "metadata":{
            
         },
         "cell_type":"markdown",
         "source":"Log the following `\"Load phase Ended\"`.\n"
      },
      {
         "metadata":{
            
         },
         "cell_type":"code",
         "source":"# Write your code here\nlog(\"Load Job Ended\")\n\nlog(\"ETL Job Ended\")",
         "execution_count":97,
         "outputs":[
            
         ]
      },
      {
         "metadata":{
            
         },
         "cell_type":"markdown",
         "source":"## Authors\n"
      },
      {
         "metadata":{
            
         },
         "cell_type":"markdown",
         "source":"Ramesh Sannareddy, Joseph Santrcangelo and Azim Hirjani\n"
      },
      {
         "metadata":{
            
         },
         "cell_type":"markdown",
         "source":"### Other Contributors\n"
      },
      {
         "metadata":{
            
         },
         "cell_type":"markdown",
         "source":"Rav Ahuja\n"
      },
      {
         "metadata":{
            
         },
         "cell_type":"markdown",
         "source":"## Change Log\n"
      },
      {
         "metadata":{
            
         },
         "cell_type":"markdown",
         "source":"| Date (YYYY-MM-DD) | Version | Changed By        | Change Description                 |\n| ----------------- | ------- | ----------------- | ---------------------------------- |\n| 2022-04-04        | 0.1     | Ramesh Sannareddy | Created initial version of the lab |\n"
      },
      {
         "metadata":{
            
         },
         "cell_type":"markdown",
         "source":" Copyright \u00a9 2022 IBM Corporation. This notebook and its source code are released under the terms of the [MIT License](https://cognitiveclass.ai/mit-license?cm_mmc=Email_Newsletter-_-Developer_Ed%2BTech-_-WW_WW-_-SkillsNetwork-Courses-IBM-DA0321EN-SkillsNetwork-21426264&cm_mmca1=000026UJ&cm_mmca2=10006555&cm_mmca3=M12345678&cvosrc=email.Newsletter.M12345678&cvo_campaign=000026UJ&cm_mmc=Email_Newsletter-_-Developer_Ed%2BTech-_-WW_WW-_-SkillsNetwork-Courses-IBM-DA0321EN-SkillsNetwork-21426264&cm_mmca1=000026UJ&cm_mmca2=10006555&cm_mmca3=M12345678&cvosrc=email.Newsletter.M12345678&cvo_campaign=000026UJ&cm_mmc=Email_Newsletter-_-Developer_Ed%2BTech-_-WW_WW-_-SkillsNetwork-Courses-IBM-DA0321EN-SkillsNetwork-21426264&cm_mmca1=000026UJ&cm_mmca2=10006555&cm_mmca3=M12345678&cvosrc=email.Newsletter.M12345678&cvo_campaign=000026UJ&cm_mmc=Email_Newsletter-_-Developer_Ed%2BTech-_-WW_WW-_-SkillsNetwork-Courses-IBM-DA0321EN-SkillsNetwork-21426264&cm_mmca1=000026UJ&cm_mmca2=10006555&cm_mmca3=M12345678&cvosrc=email.Newsletter.M12345678&cvo_campaign=000026UJ&cm_mmc=Email_Newsletter-_-Developer_Ed%2BTech-_-WW_WW-_-SkillsNetwork-Courses-IBMDeveloperSkillsNetwork-PY0221EN-SkillsNetwork-23455645&cm_mmca1=000026UJ&cm_mmca2=10006555&cm_mmca3=M12345678&cvosrc=email.Newsletter.M12345678&cvo_campaign=000026UJ&cm_mmc=Email_Newsletter-_-Developer_Ed%2BTech-_-WW_WW-_-SkillsNetwork-Courses-IBMDeveloperSkillsNetwork-PY0221EN-SkillsNetwork-23455645&cm_mmca1=000026UJ&cm_mmca2=10006555&cm_mmca3=M12345678&cvosrc=email.Newsletter.M12345678&cvo_campaign=000026UJ).\n"
      }
   ],
   "metadata":{
      "kernelspec":{
         "name":"python3",
         "display_name":"Python 3.7",
         "language":"python"
      },
      "language_info":{
         "name":"python",
         "version":"3.7.10",
         "mimetype":"text/x-python",
         "codemirror_mode":{
            "name":"ipython",
            "version":3
         },
         "pygments_lexer":"ipython3",
         "nbconvert_exporter":"python",
         "file_extension":".py"
      }
   },
   "nbformat":4,
   "nbformat_minor":4
}
